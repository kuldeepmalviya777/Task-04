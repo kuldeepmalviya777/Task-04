{
 "cells": [
  {
   "cell_type": "code",
   "execution_count": 1,
   "id": "39488e2a",
   "metadata": {},
   "outputs": [],
   "source": [
    "import cv2"
   ]
  },
  {
   "cell_type": "code",
   "execution_count": 2,
   "id": "427093ff",
   "metadata": {},
   "outputs": [],
   "source": [
    "photo = cv2.imread('flower2.jpg')"
   ]
  },
  {
   "cell_type": "code",
   "execution_count": 51,
   "id": "a309ab76",
   "metadata": {},
   "outputs": [
    {
     "data": {
      "text/plain": [
       "(410, 419, 3)"
      ]
     },
     "execution_count": 51,
     "metadata": {},
     "output_type": "execute_result"
    }
   ],
   "source": [
    "photo.shape"
   ]
  },
  {
   "cell_type": "code",
   "execution_count": 3,
   "id": "cf5a1152",
   "metadata": {},
   "outputs": [],
   "source": [
    "cp1=photo[115:250,100:300]"
   ]
  },
  {
   "cell_type": "code",
   "execution_count": 53,
   "id": "5e96c0cd",
   "metadata": {},
   "outputs": [
    {
     "data": {
      "text/plain": [
       "(135, 200, 3)"
      ]
     },
     "execution_count": 53,
     "metadata": {},
     "output_type": "execute_result"
    }
   ],
   "source": [
    "cp1.shape"
   ]
  },
  {
   "cell_type": "code",
   "execution_count": 4,
   "id": "793f6bf3",
   "metadata": {},
   "outputs": [],
   "source": [
    "cp2 = cv2.imread('flower.jpg')"
   ]
  },
  {
   "cell_type": "code",
   "execution_count": 55,
   "id": "2920fc77",
   "metadata": {},
   "outputs": [
    {
     "data": {
      "text/plain": [
       "(340, 513, 3)"
      ]
     },
     "execution_count": 55,
     "metadata": {},
     "output_type": "execute_result"
    }
   ],
   "source": [
    "cp2.shape"
   ]
  },
  {
   "cell_type": "code",
   "execution_count": 5,
   "id": "f9d54076",
   "metadata": {},
   "outputs": [],
   "source": [
    "\n",
    "cp2=cp2[150:300,219:419]\n",
    "# cv2.imshow('hi', cp2)\n",
    "# cv2.waitKey()\n",
    "# cv2.destroyAllWindows()"
   ]
  },
  {
   "cell_type": "code",
   "execution_count": 57,
   "id": "60d9c9f4",
   "metadata": {},
   "outputs": [
    {
     "data": {
      "text/plain": [
       "(150, 200, 3)"
      ]
     },
     "execution_count": 57,
     "metadata": {},
     "output_type": "execute_result"
    }
   ],
   "source": [
    "cp2.shape"
   ]
  },
  {
   "cell_type": "code",
   "execution_count": 6,
   "id": "3c221844",
   "metadata": {},
   "outputs": [],
   "source": [
    "import numpy\n",
    "cp_ver = numpy.vstack((cp1,cp2))"
   ]
  },
  {
   "cell_type": "code",
   "execution_count": 7,
   "id": "86a3ddf5",
   "metadata": {},
   "outputs": [],
   "source": [
    "cv2.imshow('hi', cp_ver)\n",
    "cv2.waitKey()\n",
    "cv2.destroyAllWindows()"
   ]
  },
  {
   "cell_type": "code",
   "execution_count": 8,
   "id": "e1bd0834",
   "metadata": {},
   "outputs": [],
   "source": [
    "import cv2\n",
    "flower1 = cv2.imread('flower.jpg')\n",
    "flower2 = cv2.imread('flower2.jpg')"
   ]
  },
  {
   "cell_type": "code",
   "execution_count": 9,
   "id": "cbb18d1e",
   "metadata": {},
   "outputs": [
    {
     "ename": "SyntaxError",
     "evalue": "invalid syntax (<ipython-input-9-bb3493ee966f>, line 1)",
     "output_type": "error",
     "traceback": [
      "\u001b[1;36m  File \u001b[1;32m\"<ipython-input-9-bb3493ee966f>\"\u001b[1;36m, line \u001b[1;32m1\u001b[0m\n\u001b[1;33m    flower2=flower2[ ]\u001b[0m\n\u001b[1;37m                     ^\u001b[0m\n\u001b[1;31mSyntaxError\u001b[0m\u001b[1;31m:\u001b[0m invalid syntax\n"
     ]
    }
   ],
   "source": [
    "flower2=flower2[ ]"
   ]
  },
  {
   "cell_type": "code",
   "execution_count": null,
   "id": "79d7419b",
   "metadata": {},
   "outputs": [],
   "source": []
  }
 ],
 "metadata": {
  "kernelspec": {
   "display_name": "Python 3",
   "language": "python",
   "name": "python3"
  },
  "language_info": {
   "codemirror_mode": {
    "name": "ipython",
    "version": 3
   },
   "file_extension": ".py",
   "mimetype": "text/x-python",
   "name": "python",
   "nbconvert_exporter": "python",
   "pygments_lexer": "ipython3",
   "version": "3.8.8"
  }
 },
 "nbformat": 4,
 "nbformat_minor": 5
}
